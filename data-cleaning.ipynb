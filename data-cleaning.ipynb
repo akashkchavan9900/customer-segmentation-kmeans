{
 "cells": [
  {
   "cell_type": "code",
   "execution_count": 4,
   "id": "3c9979a2-e19d-4655-aaf6-38a40ebf116d",
   "metadata": {},
   "outputs": [],
   "source": [
    "import pandas as pd"
   ]
  },
  {
   "cell_type": "code",
   "execution_count": 14,
   "id": "defbd597-d4c2-45ea-8005-eb408220c4c0",
   "metadata": {},
   "outputs": [],
   "source": [
    "df = pd.read_excel('C:/Users/DELL/anaconda_projects/Snap Deal Project/Online Retail.xlsx')"
   ]
  },
  {
   "cell_type": "code",
   "execution_count": null,
   "id": "5b199d02-dc10-447a-9bd7-13dd09666ba7",
   "metadata": {},
   "outputs": [],
   "source": []
  }
 ],
 "metadata": {
  "kernelspec": {
   "display_name": "Python 3 (ipykernel)",
   "language": "python",
   "name": "python3"
  },
  "language_info": {
   "codemirror_mode": {
    "name": "ipython",
    "version": 3
   },
   "file_extension": ".py",
   "mimetype": "text/x-python",
   "name": "python",
   "nbconvert_exporter": "python",
   "pygments_lexer": "ipython3",
   "version": "3.12.7"
  }
 },
 "nbformat": 4,
 "nbformat_minor": 5
}
